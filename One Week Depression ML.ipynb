{
 "cells": [
  {
   "cell_type": "code",
   "execution_count": 1,
   "metadata": {},
   "outputs": [],
   "source": [
    "import pandas as pd\n",
    "import seaborn as sns\n",
    "import numpy as np\n",
    "import matplotlib.pyplot as plt"
   ]
  },
  {
   "cell_type": "code",
   "execution_count": 2,
   "metadata": {},
   "outputs": [],
   "source": [
    "control_df = pd.read_csv(\"one_week_control_features.csv\")\n",
    "condition_df = pd.read_csv(\"one_week_condition_features.csv\")\n",
    "\n",
    "frames = [control_df, condition_df]\n",
    "ml_df = pd.concat(frames)"
   ]
  },
  {
   "cell_type": "code",
   "execution_count": 3,
   "metadata": {
    "scrolled": true
   },
   "outputs": [
    {
     "data": {
      "text/html": [
       "<div>\n",
       "<style scoped>\n",
       "    .dataframe tbody tr th:only-of-type {\n",
       "        vertical-align: middle;\n",
       "    }\n",
       "\n",
       "    .dataframe tbody tr th {\n",
       "        vertical-align: top;\n",
       "    }\n",
       "\n",
       "    .dataframe thead th {\n",
       "        text-align: right;\n",
       "    }\n",
       "</style>\n",
       "<table border=\"1\" class=\"dataframe\">\n",
       "  <thead>\n",
       "    <tr style=\"text-align: right;\">\n",
       "      <th></th>\n",
       "      <th>Max</th>\n",
       "      <th>mean</th>\n",
       "      <th>median</th>\n",
       "      <th>SD</th>\n",
       "      <th>Var</th>\n",
       "      <th>Id</th>\n",
       "    </tr>\n",
       "  </thead>\n",
       "  <tbody>\n",
       "    <tr>\n",
       "      <th>0</th>\n",
       "      <td>54521</td>\n",
       "      <td>13861.005952</td>\n",
       "      <td>12266.0</td>\n",
       "      <td>11747.496991</td>\n",
       "      <td>1.380037e+08</td>\n",
       "      <td>control</td>\n",
       "    </tr>\n",
       "    <tr>\n",
       "      <th>1</th>\n",
       "      <td>99624</td>\n",
       "      <td>24018.785714</td>\n",
       "      <td>19342.0</td>\n",
       "      <td>23333.706844</td>\n",
       "      <td>5.444619e+08</td>\n",
       "      <td>control</td>\n",
       "    </tr>\n",
       "    <tr>\n",
       "      <th>2</th>\n",
       "      <td>65015</td>\n",
       "      <td>15718.172619</td>\n",
       "      <td>17154.0</td>\n",
       "      <td>12782.930345</td>\n",
       "      <td>1.634033e+08</td>\n",
       "      <td>control</td>\n",
       "    </tr>\n",
       "    <tr>\n",
       "      <th>3</th>\n",
       "      <td>51640</td>\n",
       "      <td>11479.386905</td>\n",
       "      <td>7657.5</td>\n",
       "      <td>12202.988956</td>\n",
       "      <td>1.489129e+08</td>\n",
       "      <td>control</td>\n",
       "    </tr>\n",
       "    <tr>\n",
       "      <th>4</th>\n",
       "      <td>55847</td>\n",
       "      <td>19144.875000</td>\n",
       "      <td>19284.5</td>\n",
       "      <td>15591.658524</td>\n",
       "      <td>2.430998e+08</td>\n",
       "      <td>control</td>\n",
       "    </tr>\n",
       "    <tr>\n",
       "      <th>5</th>\n",
       "      <td>89281</td>\n",
       "      <td>21227.452381</td>\n",
       "      <td>19321.5</td>\n",
       "      <td>18038.864735</td>\n",
       "      <td>3.254006e+08</td>\n",
       "      <td>control</td>\n",
       "    </tr>\n",
       "    <tr>\n",
       "      <th>6</th>\n",
       "      <td>80940</td>\n",
       "      <td>23807.392857</td>\n",
       "      <td>21518.5</td>\n",
       "      <td>20294.551394</td>\n",
       "      <td>4.118688e+08</td>\n",
       "      <td>control</td>\n",
       "    </tr>\n",
       "    <tr>\n",
       "      <th>7</th>\n",
       "      <td>62050</td>\n",
       "      <td>24635.208333</td>\n",
       "      <td>28129.0</td>\n",
       "      <td>15736.016052</td>\n",
       "      <td>2.476222e+08</td>\n",
       "      <td>control</td>\n",
       "    </tr>\n",
       "    <tr>\n",
       "      <th>8</th>\n",
       "      <td>32071</td>\n",
       "      <td>8124.291667</td>\n",
       "      <td>4863.0</td>\n",
       "      <td>8287.858849</td>\n",
       "      <td>6.868860e+07</td>\n",
       "      <td>control</td>\n",
       "    </tr>\n",
       "    <tr>\n",
       "      <th>9</th>\n",
       "      <td>66357</td>\n",
       "      <td>16161.035714</td>\n",
       "      <td>9275.5</td>\n",
       "      <td>17882.722528</td>\n",
       "      <td>3.197918e+08</td>\n",
       "      <td>control</td>\n",
       "    </tr>\n",
       "    <tr>\n",
       "      <th>10</th>\n",
       "      <td>78434</td>\n",
       "      <td>11383.559524</td>\n",
       "      <td>8907.0</td>\n",
       "      <td>12050.323898</td>\n",
       "      <td>1.452103e+08</td>\n",
       "      <td>control</td>\n",
       "    </tr>\n",
       "    <tr>\n",
       "      <th>11</th>\n",
       "      <td>41424</td>\n",
       "      <td>9959.511905</td>\n",
       "      <td>8348.5</td>\n",
       "      <td>9300.188372</td>\n",
       "      <td>8.649350e+07</td>\n",
       "      <td>control</td>\n",
       "    </tr>\n",
       "    <tr>\n",
       "      <th>12</th>\n",
       "      <td>51982</td>\n",
       "      <td>11697.898810</td>\n",
       "      <td>8672.5</td>\n",
       "      <td>10842.256158</td>\n",
       "      <td>1.175545e+08</td>\n",
       "      <td>control</td>\n",
       "    </tr>\n",
       "    <tr>\n",
       "      <th>13</th>\n",
       "      <td>122698</td>\n",
       "      <td>23148.083333</td>\n",
       "      <td>16344.0</td>\n",
       "      <td>22755.864837</td>\n",
       "      <td>5.178294e+08</td>\n",
       "      <td>control</td>\n",
       "    </tr>\n",
       "    <tr>\n",
       "      <th>14</th>\n",
       "      <td>60783</td>\n",
       "      <td>17871.470238</td>\n",
       "      <td>18348.0</td>\n",
       "      <td>14970.197523</td>\n",
       "      <td>2.241068e+08</td>\n",
       "      <td>control</td>\n",
       "    </tr>\n",
       "    <tr>\n",
       "      <th>15</th>\n",
       "      <td>75061</td>\n",
       "      <td>15869.517857</td>\n",
       "      <td>15380.0</td>\n",
       "      <td>12810.115467</td>\n",
       "      <td>1.640991e+08</td>\n",
       "      <td>control</td>\n",
       "    </tr>\n",
       "    <tr>\n",
       "      <th>16</th>\n",
       "      <td>63171</td>\n",
       "      <td>14794.738095</td>\n",
       "      <td>13991.5</td>\n",
       "      <td>12360.450942</td>\n",
       "      <td>1.527807e+08</td>\n",
       "      <td>control</td>\n",
       "    </tr>\n",
       "    <tr>\n",
       "      <th>17</th>\n",
       "      <td>83756</td>\n",
       "      <td>16618.196429</td>\n",
       "      <td>15584.5</td>\n",
       "      <td>14720.586991</td>\n",
       "      <td>2.166957e+08</td>\n",
       "      <td>control</td>\n",
       "    </tr>\n",
       "    <tr>\n",
       "      <th>18</th>\n",
       "      <td>61059</td>\n",
       "      <td>13977.910714</td>\n",
       "      <td>13319.5</td>\n",
       "      <td>12839.570925</td>\n",
       "      <td>1.648546e+08</td>\n",
       "      <td>control</td>\n",
       "    </tr>\n",
       "    <tr>\n",
       "      <th>19</th>\n",
       "      <td>73420</td>\n",
       "      <td>22573.523810</td>\n",
       "      <td>22471.0</td>\n",
       "      <td>18906.133517</td>\n",
       "      <td>3.574419e+08</td>\n",
       "      <td>control</td>\n",
       "    </tr>\n",
       "    <tr>\n",
       "      <th>20</th>\n",
       "      <td>55350</td>\n",
       "      <td>15737.261905</td>\n",
       "      <td>13698.0</td>\n",
       "      <td>12649.182994</td>\n",
       "      <td>1.600018e+08</td>\n",
       "      <td>control</td>\n",
       "    </tr>\n",
       "    <tr>\n",
       "      <th>21</th>\n",
       "      <td>53599</td>\n",
       "      <td>15322.904762</td>\n",
       "      <td>14654.0</td>\n",
       "      <td>12613.284638</td>\n",
       "      <td>1.590949e+08</td>\n",
       "      <td>control</td>\n",
       "    </tr>\n",
       "    <tr>\n",
       "      <th>22</th>\n",
       "      <td>53065</td>\n",
       "      <td>12399.857143</td>\n",
       "      <td>12643.5</td>\n",
       "      <td>10349.162269</td>\n",
       "      <td>1.071052e+08</td>\n",
       "      <td>control</td>\n",
       "    </tr>\n",
       "    <tr>\n",
       "      <th>23</th>\n",
       "      <td>158689</td>\n",
       "      <td>25420.517857</td>\n",
       "      <td>22091.5</td>\n",
       "      <td>26323.798816</td>\n",
       "      <td>6.929424e+08</td>\n",
       "      <td>control</td>\n",
       "    </tr>\n",
       "    <tr>\n",
       "      <th>24</th>\n",
       "      <td>66173</td>\n",
       "      <td>21099.053571</td>\n",
       "      <td>19337.0</td>\n",
       "      <td>17149.893619</td>\n",
       "      <td>2.941189e+08</td>\n",
       "      <td>control</td>\n",
       "    </tr>\n",
       "    <tr>\n",
       "      <th>25</th>\n",
       "      <td>71170</td>\n",
       "      <td>23712.690476</td>\n",
       "      <td>25359.5</td>\n",
       "      <td>19030.638432</td>\n",
       "      <td>3.621652e+08</td>\n",
       "      <td>control</td>\n",
       "    </tr>\n",
       "    <tr>\n",
       "      <th>26</th>\n",
       "      <td>71197</td>\n",
       "      <td>17489.738095</td>\n",
       "      <td>14377.0</td>\n",
       "      <td>14865.638852</td>\n",
       "      <td>2.209872e+08</td>\n",
       "      <td>control</td>\n",
       "    </tr>\n",
       "    <tr>\n",
       "      <th>27</th>\n",
       "      <td>57561</td>\n",
       "      <td>17061.101190</td>\n",
       "      <td>15866.5</td>\n",
       "      <td>12122.992594</td>\n",
       "      <td>1.469669e+08</td>\n",
       "      <td>control</td>\n",
       "    </tr>\n",
       "    <tr>\n",
       "      <th>28</th>\n",
       "      <td>64800</td>\n",
       "      <td>16492.815476</td>\n",
       "      <td>15216.0</td>\n",
       "      <td>13950.130764</td>\n",
       "      <td>1.946061e+08</td>\n",
       "      <td>control</td>\n",
       "    </tr>\n",
       "    <tr>\n",
       "      <th>29</th>\n",
       "      <td>61616</td>\n",
       "      <td>13150.392857</td>\n",
       "      <td>11237.0</td>\n",
       "      <td>11620.814586</td>\n",
       "      <td>1.350433e+08</td>\n",
       "      <td>control</td>\n",
       "    </tr>\n",
       "    <tr>\n",
       "      <th>30</th>\n",
       "      <td>189645</td>\n",
       "      <td>19787.422619</td>\n",
       "      <td>15295.0</td>\n",
       "      <td>24701.797934</td>\n",
       "      <td>6.101788e+08</td>\n",
       "      <td>control</td>\n",
       "    </tr>\n",
       "    <tr>\n",
       "      <th>31</th>\n",
       "      <td>53177</td>\n",
       "      <td>8784.809524</td>\n",
       "      <td>4069.0</td>\n",
       "      <td>10377.704578</td>\n",
       "      <td>1.076968e+08</td>\n",
       "      <td>control</td>\n",
       "    </tr>\n",
       "    <tr>\n",
       "      <th>32</th>\n",
       "      <td>23739</td>\n",
       "      <td>9374.833333</td>\n",
       "      <td>6945.0</td>\n",
       "      <td>8838.539751</td>\n",
       "      <td>7.811978e+07</td>\n",
       "      <td>condition</td>\n",
       "    </tr>\n",
       "    <tr>\n",
       "      <th>33</th>\n",
       "      <td>43085</td>\n",
       "      <td>15578.708333</td>\n",
       "      <td>17514.0</td>\n",
       "      <td>12469.206116</td>\n",
       "      <td>1.554811e+08</td>\n",
       "      <td>condition</td>\n",
       "    </tr>\n",
       "    <tr>\n",
       "      <th>34</th>\n",
       "      <td>62600</td>\n",
       "      <td>16584.833333</td>\n",
       "      <td>15955.5</td>\n",
       "      <td>16121.695821</td>\n",
       "      <td>2.599091e+08</td>\n",
       "      <td>condition</td>\n",
       "    </tr>\n",
       "    <tr>\n",
       "      <th>35</th>\n",
       "      <td>46288</td>\n",
       "      <td>14892.708333</td>\n",
       "      <td>12806.5</td>\n",
       "      <td>13139.484304</td>\n",
       "      <td>1.726460e+08</td>\n",
       "      <td>condition</td>\n",
       "    </tr>\n",
       "    <tr>\n",
       "      <th>36</th>\n",
       "      <td>62282</td>\n",
       "      <td>11670.625000</td>\n",
       "      <td>7848.5</td>\n",
       "      <td>14530.252611</td>\n",
       "      <td>2.111282e+08</td>\n",
       "      <td>condition</td>\n",
       "    </tr>\n",
       "    <tr>\n",
       "      <th>37</th>\n",
       "      <td>39950</td>\n",
       "      <td>11082.291667</td>\n",
       "      <td>6345.0</td>\n",
       "      <td>11358.709083</td>\n",
       "      <td>1.290203e+08</td>\n",
       "      <td>condition</td>\n",
       "    </tr>\n",
       "    <tr>\n",
       "      <th>38</th>\n",
       "      <td>34775</td>\n",
       "      <td>15439.791667</td>\n",
       "      <td>14979.5</td>\n",
       "      <td>12895.015889</td>\n",
       "      <td>1.662814e+08</td>\n",
       "      <td>condition</td>\n",
       "    </tr>\n",
       "    <tr>\n",
       "      <th>39</th>\n",
       "      <td>43606</td>\n",
       "      <td>13314.625000</td>\n",
       "      <td>7409.0</td>\n",
       "      <td>13764.595491</td>\n",
       "      <td>1.894641e+08</td>\n",
       "      <td>condition</td>\n",
       "    </tr>\n",
       "    <tr>\n",
       "      <th>40</th>\n",
       "      <td>35718</td>\n",
       "      <td>9887.791667</td>\n",
       "      <td>9064.5</td>\n",
       "      <td>9103.586551</td>\n",
       "      <td>8.287529e+07</td>\n",
       "      <td>condition</td>\n",
       "    </tr>\n",
       "    <tr>\n",
       "      <th>41</th>\n",
       "      <td>66345</td>\n",
       "      <td>25587.875000</td>\n",
       "      <td>29291.5</td>\n",
       "      <td>20411.586881</td>\n",
       "      <td>4.166329e+08</td>\n",
       "      <td>condition</td>\n",
       "    </tr>\n",
       "    <tr>\n",
       "      <th>42</th>\n",
       "      <td>33358</td>\n",
       "      <td>7794.541667</td>\n",
       "      <td>2019.5</td>\n",
       "      <td>10231.769501</td>\n",
       "      <td>1.046891e+08</td>\n",
       "      <td>condition</td>\n",
       "    </tr>\n",
       "    <tr>\n",
       "      <th>43</th>\n",
       "      <td>22022</td>\n",
       "      <td>7007.666667</td>\n",
       "      <td>4895.0</td>\n",
       "      <td>6337.409069</td>\n",
       "      <td>4.016275e+07</td>\n",
       "      <td>condition</td>\n",
       "    </tr>\n",
       "    <tr>\n",
       "      <th>44</th>\n",
       "      <td>42822</td>\n",
       "      <td>17613.375000</td>\n",
       "      <td>19109.5</td>\n",
       "      <td>13120.258951</td>\n",
       "      <td>1.721412e+08</td>\n",
       "      <td>condition</td>\n",
       "    </tr>\n",
       "    <tr>\n",
       "      <th>45</th>\n",
       "      <td>44674</td>\n",
       "      <td>8611.208333</td>\n",
       "      <td>5329.5</td>\n",
       "      <td>11016.785458</td>\n",
       "      <td>1.213696e+08</td>\n",
       "      <td>condition</td>\n",
       "    </tr>\n",
       "    <tr>\n",
       "      <th>46</th>\n",
       "      <td>43040</td>\n",
       "      <td>10538.375000</td>\n",
       "      <td>10085.0</td>\n",
       "      <td>10031.013711</td>\n",
       "      <td>1.006212e+08</td>\n",
       "      <td>condition</td>\n",
       "    </tr>\n",
       "    <tr>\n",
       "      <th>47</th>\n",
       "      <td>62498</td>\n",
       "      <td>21063.458333</td>\n",
       "      <td>10967.5</td>\n",
       "      <td>23307.109986</td>\n",
       "      <td>5.432214e+08</td>\n",
       "      <td>condition</td>\n",
       "    </tr>\n",
       "    <tr>\n",
       "      <th>48</th>\n",
       "      <td>14043</td>\n",
       "      <td>5025.958333</td>\n",
       "      <td>3737.5</td>\n",
       "      <td>4516.900876</td>\n",
       "      <td>2.040239e+07</td>\n",
       "      <td>condition</td>\n",
       "    </tr>\n",
       "    <tr>\n",
       "      <th>49</th>\n",
       "      <td>7979</td>\n",
       "      <td>3401.750000</td>\n",
       "      <td>2780.0</td>\n",
       "      <td>2243.926106</td>\n",
       "      <td>5.035204e+06</td>\n",
       "      <td>condition</td>\n",
       "    </tr>\n",
       "    <tr>\n",
       "      <th>50</th>\n",
       "      <td>28442</td>\n",
       "      <td>9086.958333</td>\n",
       "      <td>7528.5</td>\n",
       "      <td>7889.338797</td>\n",
       "      <td>6.224167e+07</td>\n",
       "      <td>condition</td>\n",
       "    </tr>\n",
       "    <tr>\n",
       "      <th>51</th>\n",
       "      <td>16830</td>\n",
       "      <td>4303.375000</td>\n",
       "      <td>2024.5</td>\n",
       "      <td>5073.243477</td>\n",
       "      <td>2.573780e+07</td>\n",
       "      <td>condition</td>\n",
       "    </tr>\n",
       "    <tr>\n",
       "      <th>52</th>\n",
       "      <td>26647</td>\n",
       "      <td>4504.833333</td>\n",
       "      <td>541.0</td>\n",
       "      <td>8087.679942</td>\n",
       "      <td>6.541057e+07</td>\n",
       "      <td>condition</td>\n",
       "    </tr>\n",
       "    <tr>\n",
       "      <th>53</th>\n",
       "      <td>20727</td>\n",
       "      <td>8143.625000</td>\n",
       "      <td>4336.0</td>\n",
       "      <td>7921.304596</td>\n",
       "      <td>6.274707e+07</td>\n",
       "      <td>condition</td>\n",
       "    </tr>\n",
       "    <tr>\n",
       "      <th>54</th>\n",
       "      <td>42622</td>\n",
       "      <td>10706.083333</td>\n",
       "      <td>5125.0</td>\n",
       "      <td>11717.345711</td>\n",
       "      <td>1.372962e+08</td>\n",
       "      <td>condition</td>\n",
       "    </tr>\n",
       "  </tbody>\n",
       "</table>\n",
       "</div>"
      ],
      "text/plain": [
       "       Max          mean   median            SD           Var         Id\n",
       "0    54521  13861.005952  12266.0  11747.496991  1.380037e+08    control\n",
       "1    99624  24018.785714  19342.0  23333.706844  5.444619e+08    control\n",
       "2    65015  15718.172619  17154.0  12782.930345  1.634033e+08    control\n",
       "3    51640  11479.386905   7657.5  12202.988956  1.489129e+08    control\n",
       "4    55847  19144.875000  19284.5  15591.658524  2.430998e+08    control\n",
       "5    89281  21227.452381  19321.5  18038.864735  3.254006e+08    control\n",
       "6    80940  23807.392857  21518.5  20294.551394  4.118688e+08    control\n",
       "7    62050  24635.208333  28129.0  15736.016052  2.476222e+08    control\n",
       "8    32071   8124.291667   4863.0   8287.858849  6.868860e+07    control\n",
       "9    66357  16161.035714   9275.5  17882.722528  3.197918e+08    control\n",
       "10   78434  11383.559524   8907.0  12050.323898  1.452103e+08    control\n",
       "11   41424   9959.511905   8348.5   9300.188372  8.649350e+07    control\n",
       "12   51982  11697.898810   8672.5  10842.256158  1.175545e+08    control\n",
       "13  122698  23148.083333  16344.0  22755.864837  5.178294e+08    control\n",
       "14   60783  17871.470238  18348.0  14970.197523  2.241068e+08    control\n",
       "15   75061  15869.517857  15380.0  12810.115467  1.640991e+08    control\n",
       "16   63171  14794.738095  13991.5  12360.450942  1.527807e+08    control\n",
       "17   83756  16618.196429  15584.5  14720.586991  2.166957e+08    control\n",
       "18   61059  13977.910714  13319.5  12839.570925  1.648546e+08    control\n",
       "19   73420  22573.523810  22471.0  18906.133517  3.574419e+08    control\n",
       "20   55350  15737.261905  13698.0  12649.182994  1.600018e+08    control\n",
       "21   53599  15322.904762  14654.0  12613.284638  1.590949e+08    control\n",
       "22   53065  12399.857143  12643.5  10349.162269  1.071052e+08    control\n",
       "23  158689  25420.517857  22091.5  26323.798816  6.929424e+08    control\n",
       "24   66173  21099.053571  19337.0  17149.893619  2.941189e+08    control\n",
       "25   71170  23712.690476  25359.5  19030.638432  3.621652e+08    control\n",
       "26   71197  17489.738095  14377.0  14865.638852  2.209872e+08    control\n",
       "27   57561  17061.101190  15866.5  12122.992594  1.469669e+08    control\n",
       "28   64800  16492.815476  15216.0  13950.130764  1.946061e+08    control\n",
       "29   61616  13150.392857  11237.0  11620.814586  1.350433e+08    control\n",
       "30  189645  19787.422619  15295.0  24701.797934  6.101788e+08    control\n",
       "31   53177   8784.809524   4069.0  10377.704578  1.076968e+08    control\n",
       "32   23739   9374.833333   6945.0   8838.539751  7.811978e+07  condition\n",
       "33   43085  15578.708333  17514.0  12469.206116  1.554811e+08  condition\n",
       "34   62600  16584.833333  15955.5  16121.695821  2.599091e+08  condition\n",
       "35   46288  14892.708333  12806.5  13139.484304  1.726460e+08  condition\n",
       "36   62282  11670.625000   7848.5  14530.252611  2.111282e+08  condition\n",
       "37   39950  11082.291667   6345.0  11358.709083  1.290203e+08  condition\n",
       "38   34775  15439.791667  14979.5  12895.015889  1.662814e+08  condition\n",
       "39   43606  13314.625000   7409.0  13764.595491  1.894641e+08  condition\n",
       "40   35718   9887.791667   9064.5   9103.586551  8.287529e+07  condition\n",
       "41   66345  25587.875000  29291.5  20411.586881  4.166329e+08  condition\n",
       "42   33358   7794.541667   2019.5  10231.769501  1.046891e+08  condition\n",
       "43   22022   7007.666667   4895.0   6337.409069  4.016275e+07  condition\n",
       "44   42822  17613.375000  19109.5  13120.258951  1.721412e+08  condition\n",
       "45   44674   8611.208333   5329.5  11016.785458  1.213696e+08  condition\n",
       "46   43040  10538.375000  10085.0  10031.013711  1.006212e+08  condition\n",
       "47   62498  21063.458333  10967.5  23307.109986  5.432214e+08  condition\n",
       "48   14043   5025.958333   3737.5   4516.900876  2.040239e+07  condition\n",
       "49    7979   3401.750000   2780.0   2243.926106  5.035204e+06  condition\n",
       "50   28442   9086.958333   7528.5   7889.338797  6.224167e+07  condition\n",
       "51   16830   4303.375000   2024.5   5073.243477  2.573780e+07  condition\n",
       "52   26647   4504.833333    541.0   8087.679942  6.541057e+07  condition\n",
       "53   20727   8143.625000   4336.0   7921.304596  6.274707e+07  condition\n",
       "54   42622  10706.083333   5125.0  11717.345711  1.372962e+08  condition"
      ]
     },
     "execution_count": 3,
     "metadata": {},
     "output_type": "execute_result"
    }
   ],
   "source": [
    "ml_df.drop(['Unnamed: 0'], axis =1, inplace=True)\n",
    "ml_df.reset_index(drop=True, inplace=True)\n",
    "ml_df"
   ]
  },
  {
   "cell_type": "markdown",
   "metadata": {},
   "source": [
    "# Visualisation"
   ]
  },
  {
   "cell_type": "code",
   "execution_count": 4,
   "metadata": {},
   "outputs": [
    {
     "data": {
      "text/plain": [
       "<AxesSubplot:xlabel='Id', ylabel='Max'>"
      ]
     },
     "execution_count": 4,
     "metadata": {},
     "output_type": "execute_result"
    },
    {
     "data": {
      "image/png": "[encoded data removed]",
      "text/plain": [
       "<Figure size 432x288 with 1 Axes>"
      ]
     },
     "metadata": {
      "needs_background": "light"
     },
     "output_type": "display_data"
    }
   ],
   "source": [
    "#graphing the Max values of condition and control patients\n",
    "sns.scatterplot(y = ml_df['Max'], x = ml_df['Id'] )"
   ]
  },
  {
   "cell_type": "code",
   "execution_count": 5,
   "metadata": {},
   "outputs": [
    {
     "data": {
      "text/plain": [
       "<AxesSubplot:xlabel='Id', ylabel='mean'>"
      ]
     },
     "execution_count": 5,
     "metadata": {},
     "output_type": "execute_result"
    },
    {
     "data": {
      "image/png": "[encoded data removed]",
      "text/plain": [
       "<Figure size 432x288 with 1 Axes>"
      ]
     },
     "metadata": {
      "needs_background": "light"
     },
     "output_type": "display_data"
    }
   ],
   "source": [
    "#graphing the mean values of condition and control patients\n",
    "sns.boxplot(y = ml_df['mean'], x = ml_df['Id'])"
   ]
  },
  {
   "cell_type": "code",
   "execution_count": 6,
   "metadata": {},
   "outputs": [
    {
     "data": {
      "text/plain": [
       "<AxesSubplot:xlabel='Id', ylabel='median'>"
      ]
     },
     "execution_count": 6,
     "metadata": {},
     "output_type": "execute_result"
    },
    {
     "data": {
      "image/png": "[encoded data removed]",
      "text/plain": [
       "<Figure size 432x288 with 1 Axes>"
      ]
     },
     "metadata": {
      "needs_background": "light"
     },
     "output_type": "display_data"
    }
   ],
   "source": [
    "#graphing the median values of condition and control patients\n",
    "sns.boxplot(y = ml_df['median'], x = ml_df['Id'])"
   ]
  },
  {
   "cell_type": "code",
   "execution_count": 7,
   "metadata": {},
   "outputs": [
    {
     "data": {
      "text/plain": [
       "<AxesSubplot:xlabel='Id', ylabel='SD'>"
      ]
     },
     "execution_count": 7,
     "metadata": {},
     "output_type": "execute_result"
    },
    {
     "data": {
      "image/png": "[encoded data removed]",
      "text/plain": [
       "<Figure size 432x288 with 1 Axes>"
      ]
     },
     "metadata": {
      "needs_background": "light"
     },
     "output_type": "display_data"
    }
   ],
   "source": [
    "#graphing the standard deviation values of condition and control patients\n",
    "sns.scatterplot(y = ml_df['SD'], x = ml_df['Id'])"
   ]
  },
  {
   "cell_type": "code",
   "execution_count": 8,
   "metadata": {
    "scrolled": true
   },
   "outputs": [
    {
     "data": {
      "text/plain": [
       "<AxesSubplot:xlabel='Id', ylabel='Var'>"
      ]
     },
     "execution_count": 8,
     "metadata": {},
     "output_type": "execute_result"
    },
    {
     "data": {
      "image/png": "[encoded data removed]",
      "text/plain": [
       "<Figure size 432x288 with 1 Axes>"
      ]
     },
     "metadata": {
      "needs_background": "light"
     },
     "output_type": "display_data"
    }
   ],
   "source": [
    "#graphing the variance values of condition and control patients\n",
    "sns.scatterplot(y = ml_df['Var'], x = ml_df['Id'])"
   ]
  },
  {
   "cell_type": "code",
   "execution_count": 9,
   "metadata": {
    "scrolled": true
   },
   "outputs": [
    {
     "data": {
      "text/html": [
       "<div>\n",
       "<style scoped>\n",
       "    .dataframe tbody tr th:only-of-type {\n",
       "        vertical-align: middle;\n",
       "    }\n",
       "\n",
       "    .dataframe tbody tr th {\n",
       "        vertical-align: top;\n",
       "    }\n",
       "\n",
       "    .dataframe thead th {\n",
       "        text-align: right;\n",
       "    }\n",
       "</style>\n",
       "<table border=\"1\" class=\"dataframe\">\n",
       "  <thead>\n",
       "    <tr style=\"text-align: right;\">\n",
       "      <th></th>\n",
       "      <th>Max</th>\n",
       "      <th>mean</th>\n",
       "      <th>median</th>\n",
       "      <th>SD</th>\n",
       "      <th>Var</th>\n",
       "      <th>Id_condition</th>\n",
       "      <th>Id_control</th>\n",
       "    </tr>\n",
       "  </thead>\n",
       "  <tbody>\n",
       "    <tr>\n",
       "      <th>0</th>\n",
       "      <td>54521</td>\n",
       "      <td>13861.005952</td>\n",
       "      <td>12266.0</td>\n",
       "      <td>11747.496991</td>\n",
       "      <td>1.380037e+08</td>\n",
       "      <td>0</td>\n",
       "      <td>1</td>\n",
       "    </tr>\n",
       "    <tr>\n",
       "      <th>1</th>\n",
       "      <td>99624</td>\n",
       "      <td>24018.785714</td>\n",
       "      <td>19342.0</td>\n",
       "      <td>23333.706844</td>\n",
       "      <td>5.444619e+08</td>\n",
       "      <td>0</td>\n",
       "      <td>1</td>\n",
       "    </tr>\n",
       "    <tr>\n",
       "      <th>2</th>\n",
       "      <td>65015</td>\n",
       "      <td>15718.172619</td>\n",
       "      <td>17154.0</td>\n",
       "      <td>12782.930345</td>\n",
       "      <td>1.634033e+08</td>\n",
       "      <td>0</td>\n",
       "      <td>1</td>\n",
       "    </tr>\n",
       "    <tr>\n",
       "      <th>3</th>\n",
       "      <td>51640</td>\n",
       "      <td>11479.386905</td>\n",
       "      <td>7657.5</td>\n",
       "      <td>12202.988956</td>\n",
       "      <td>1.489129e+08</td>\n",
       "      <td>0</td>\n",
       "      <td>1</td>\n",
       "    </tr>\n",
       "    <tr>\n",
       "      <th>4</th>\n",
       "      <td>55847</td>\n",
       "      <td>19144.875000</td>\n",
       "      <td>19284.5</td>\n",
       "      <td>15591.658524</td>\n",
       "      <td>2.430998e+08</td>\n",
       "      <td>0</td>\n",
       "      <td>1</td>\n",
       "    </tr>\n",
       "    <tr>\n",
       "      <th>5</th>\n",
       "      <td>89281</td>\n",
       "      <td>21227.452381</td>\n",
       "      <td>19321.5</td>\n",
       "      <td>18038.864735</td>\n",
       "      <td>3.254006e+08</td>\n",
       "      <td>0</td>\n",
       "      <td>1</td>\n",
       "    </tr>\n",
       "    <tr>\n",
       "      <th>6</th>\n",
       "      <td>80940</td>\n",
       "      <td>23807.392857</td>\n",
       "      <td>21518.5</td>\n",
       "      <td>20294.551394</td>\n",
       "      <td>4.118688e+08</td>\n",
       "      <td>0</td>\n",
       "      <td>1</td>\n",
       "    </tr>\n",
       "    <tr>\n",
       "      <th>7</th>\n",
       "      <td>62050</td>\n",
       "      <td>24635.208333</td>\n",
       "      <td>28129.0</td>\n",
       "      <td>15736.016052</td>\n",
       "      <td>2.476222e+08</td>\n",
       "      <td>0</td>\n",
       "      <td>1</td>\n",
       "    </tr>\n",
       "    <tr>\n",
       "      <th>8</th>\n",
       "      <td>32071</td>\n",
       "      <td>8124.291667</td>\n",
       "      <td>4863.0</td>\n",
       "      <td>8287.858849</td>\n",
       "      <td>6.868860e+07</td>\n",
       "      <td>0</td>\n",
       "      <td>1</td>\n",
       "    </tr>\n",
       "    <tr>\n",
       "      <th>9</th>\n",
       "      <td>66357</td>\n",
       "      <td>16161.035714</td>\n",
       "      <td>9275.5</td>\n",
       "      <td>17882.722528</td>\n",
       "      <td>3.197918e+08</td>\n",
       "      <td>0</td>\n",
       "      <td>1</td>\n",
       "    </tr>\n",
       "    <tr>\n",
       "      <th>10</th>\n",
       "      <td>78434</td>\n",
       "      <td>11383.559524</td>\n",
       "      <td>8907.0</td>\n",
       "      <td>12050.323898</td>\n",
       "      <td>1.452103e+08</td>\n",
       "      <td>0</td>\n",
       "      <td>1</td>\n",
       "    </tr>\n",
       "    <tr>\n",
       "      <th>11</th>\n",
       "      <td>41424</td>\n",
       "      <td>9959.511905</td>\n",
       "      <td>8348.5</td>\n",
       "      <td>9300.188372</td>\n",
       "      <td>8.649350e+07</td>\n",
       "      <td>0</td>\n",
       "      <td>1</td>\n",
       "    </tr>\n",
       "    <tr>\n",
       "      <th>12</th>\n",
       "      <td>51982</td>\n",
       "      <td>11697.898810</td>\n",
       "      <td>8672.5</td>\n",
       "      <td>10842.256158</td>\n",
       "      <td>1.175545e+08</td>\n",
       "      <td>0</td>\n",
       "      <td>1</td>\n",
       "    </tr>\n",
       "    <tr>\n",
       "      <th>13</th>\n",
       "      <td>122698</td>\n",
       "      <td>23148.083333</td>\n",
       "      <td>16344.0</td>\n",
       "      <td>22755.864837</td>\n",
       "      <td>5.178294e+08</td>\n",
       "      <td>0</td>\n",
       "      <td>1</td>\n",
       "    </tr>\n",
       "    <tr>\n",
       "      <th>14</th>\n",
       "      <td>60783</td>\n",
       "      <td>17871.470238</td>\n",
       "      <td>18348.0</td>\n",
       "      <td>14970.197523</td>\n",
       "      <td>2.241068e+08</td>\n",
       "      <td>0</td>\n",
       "      <td>1</td>\n",
       "    </tr>\n",
       "    <tr>\n",
       "      <th>15</th>\n",
       "      <td>75061</td>\n",
       "      <td>15869.517857</td>\n",
       "      <td>15380.0</td>\n",
       "      <td>12810.115467</td>\n",
       "      <td>1.640991e+08</td>\n",
       "      <td>0</td>\n",
       "      <td>1</td>\n",
       "    </tr>\n",
       "    <tr>\n",
       "      <th>16</th>\n",
       "      <td>63171</td>\n",
       "      <td>14794.738095</td>\n",
       "      <td>13991.5</td>\n",
       "      <td>12360.450942</td>\n",
       "      <td>1.527807e+08</td>\n",
       "      <td>0</td>\n",
       "      <td>1</td>\n",
       "    </tr>\n",
       "    <tr>\n",
       "      <th>17</th>\n",
       "      <td>83756</td>\n",
       "      <td>16618.196429</td>\n",
       "      <td>15584.5</td>\n",
       "      <td>14720.586991</td>\n",
       "      <td>2.166957e+08</td>\n",
       "      <td>0</td>\n",
       "      <td>1</td>\n",
       "    </tr>\n",
       "    <tr>\n",
       "      <th>18</th>\n",
       "      <td>61059</td>\n",
       "      <td>13977.910714</td>\n",
       "      <td>13319.5</td>\n",
       "      <td>12839.570925</td>\n",
       "      <td>1.648546e+08</td>\n",
       "      <td>0</td>\n",
       "      <td>1</td>\n",
       "    </tr>\n",
       "    <tr>\n",
       "      <th>19</th>\n",
       "      <td>73420</td>\n",
       "      <td>22573.523810</td>\n",
       "      <td>22471.0</td>\n",
       "      <td>18906.133517</td>\n",
       "      <td>3.574419e+08</td>\n",
       "      <td>0</td>\n",
       "      <td>1</td>\n",
       "    </tr>\n",
       "    <tr>\n",
       "      <th>20</th>\n",
       "      <td>55350</td>\n",
       "      <td>15737.261905</td>\n",
       "      <td>13698.0</td>\n",
       "      <td>12649.182994</td>\n",
       "      <td>1.600018e+08</td>\n",
       "      <td>0</td>\n",
       "      <td>1</td>\n",
       "    </tr>\n",
       "    <tr>\n",
       "      <th>21</th>\n",
       "      <td>53599</td>\n",
       "      <td>15322.904762</td>\n",
       "      <td>14654.0</td>\n",
       "      <td>12613.284638</td>\n",
       "      <td>1.590949e+08</td>\n",
       "      <td>0</td>\n",
       "      <td>1</td>\n",
       "    </tr>\n",
       "    <tr>\n",
       "      <th>22</th>\n",
       "      <td>53065</td>\n",
       "      <td>12399.857143</td>\n",
       "      <td>12643.5</td>\n",
       "      <td>10349.162269</td>\n",
       "      <td>1.071052e+08</td>\n",
       "      <td>0</td>\n",
       "      <td>1</td>\n",
       "    </tr>\n",
       "    <tr>\n",
       "      <th>23</th>\n",
       "      <td>158689</td>\n",
       "      <td>25420.517857</td>\n",
       "      <td>22091.5</td>\n",
       "      <td>26323.798816</td>\n",
       "      <td>6.929424e+08</td>\n",
       "      <td>0</td>\n",
       "      <td>1</td>\n",
       "    </tr>\n",
       "    <tr>\n",
       "      <th>24</th>\n",
       "      <td>66173</td>\n",
       "      <td>21099.053571</td>\n",
       "      <td>19337.0</td>\n",
       "      <td>17149.893619</td>\n",
       "      <td>2.941189e+08</td>\n",
       "      <td>0</td>\n",
       "      <td>1</td>\n",
       "    </tr>\n",
       "    <tr>\n",
       "      <th>25</th>\n",
       "      <td>71170</td>\n",
       "      <td>23712.690476</td>\n",
       "      <td>25359.5</td>\n",
       "      <td>19030.638432</td>\n",
       "      <td>3.621652e+08</td>\n",
       "      <td>0</td>\n",
       "      <td>1</td>\n",
       "    </tr>\n",
       "    <tr>\n",
       "      <th>26</th>\n",
       "      <td>71197</td>\n",
       "      <td>17489.738095</td>\n",
       "      <td>14377.0</td>\n",
       "      <td>14865.638852</td>\n",
       "      <td>2.209872e+08</td>\n",
       "      <td>0</td>\n",
       "      <td>1</td>\n",
       "    </tr>\n",
       "    <tr>\n",
       "      <th>27</th>\n",
       "      <td>57561</td>\n",
       "      <td>17061.101190</td>\n",
       "      <td>15866.5</td>\n",
       "      <td>12122.992594</td>\n",
       "      <td>1.469669e+08</td>\n",
       "      <td>0</td>\n",
       "      <td>1</td>\n",
       "    </tr>\n",
       "    <tr>\n",
       "      <th>28</th>\n",
       "      <td>64800</td>\n",
       "      <td>16492.815476</td>\n",
       "      <td>15216.0</td>\n",
       "      <td>13950.130764</td>\n",
       "      <td>1.946061e+08</td>\n",
       "      <td>0</td>\n",
       "      <td>1</td>\n",
       "    </tr>\n",
       "    <tr>\n",
       "      <th>29</th>\n",
       "      <td>61616</td>\n",
       "      <td>13150.392857</td>\n",
       "      <td>11237.0</td>\n",
       "      <td>11620.814586</td>\n",
       "      <td>1.350433e+08</td>\n",
       "      <td>0</td>\n",
       "      <td>1</td>\n",
       "    </tr>\n",
       "    <tr>\n",
       "      <th>30</th>\n",
       "      <td>189645</td>\n",
       "      <td>19787.422619</td>\n",
       "      <td>15295.0</td>\n",
       "      <td>24701.797934</td>\n",
       "      <td>6.101788e+08</td>\n",
       "      <td>0</td>\n",
       "      <td>1</td>\n",
       "    </tr>\n",
       "    <tr>\n",
       "      <th>31</th>\n",
       "      <td>53177</td>\n",
       "      <td>8784.809524</td>\n",
       "      <td>4069.0</td>\n",
       "      <td>10377.704578</td>\n",
       "      <td>1.076968e+08</td>\n",
       "      <td>0</td>\n",
       "      <td>1</td>\n",
       "    </tr>\n",
       "    <tr>\n",
       "      <th>32</th>\n",
       "      <td>23739</td>\n",
       "      <td>9374.833333</td>\n",
       "      <td>6945.0</td>\n",
       "      <td>8838.539751</td>\n",
       "      <td>7.811978e+07</td>\n",
       "      <td>1</td>\n",
       "      <td>0</td>\n",
       "    </tr>\n",
       "    <tr>\n",
       "      <th>33</th>\n",
       "      <td>43085</td>\n",
       "      <td>15578.708333</td>\n",
       "      <td>17514.0</td>\n",
       "      <td>12469.206116</td>\n",
       "      <td>1.554811e+08</td>\n",
       "      <td>1</td>\n",
       "      <td>0</td>\n",
       "    </tr>\n",
       "    <tr>\n",
       "      <th>34</th>\n",
       "      <td>62600</td>\n",
       "      <td>16584.833333</td>\n",
       "      <td>15955.5</td>\n",
       "      <td>16121.695821</td>\n",
       "      <td>2.599091e+08</td>\n",
       "      <td>1</td>\n",
       "      <td>0</td>\n",
       "    </tr>\n",
       "    <tr>\n",
       "      <th>35</th>\n",
       "      <td>46288</td>\n",
       "      <td>14892.708333</td>\n",
       "      <td>12806.5</td>\n",
       "      <td>13139.484304</td>\n",
       "      <td>1.726460e+08</td>\n",
       "      <td>1</td>\n",
       "      <td>0</td>\n",
       "    </tr>\n",
       "    <tr>\n",
       "      <th>36</th>\n",
       "      <td>62282</td>\n",
       "      <td>11670.625000</td>\n",
       "      <td>7848.5</td>\n",
       "      <td>14530.252611</td>\n",
       "      <td>2.111282e+08</td>\n",
       "      <td>1</td>\n",
       "      <td>0</td>\n",
       "    </tr>\n",
       "    <tr>\n",
       "      <th>37</th>\n",
       "      <td>39950</td>\n",
       "      <td>11082.291667</td>\n",
       "      <td>6345.0</td>\n",
       "      <td>11358.709083</td>\n",
       "      <td>1.290203e+08</td>\n",
       "      <td>1</td>\n",
       "      <td>0</td>\n",
       "    </tr>\n",
       "    <tr>\n",
       "      <th>38</th>\n",
       "      <td>34775</td>\n",
       "      <td>15439.791667</td>\n",
       "      <td>14979.5</td>\n",
       "      <td>12895.015889</td>\n",
       "      <td>1.662814e+08</td>\n",
       "      <td>1</td>\n",
       "      <td>0</td>\n",
       "    </tr>\n",
       "    <tr>\n",
       "      <th>39</th>\n",
       "      <td>43606</td>\n",
       "      <td>13314.625000</td>\n",
       "      <td>7409.0</td>\n",
       "      <td>13764.595491</td>\n",
       "      <td>1.894641e+08</td>\n",
       "      <td>1</td>\n",
       "      <td>0</td>\n",
       "    </tr>\n",
       "    <tr>\n",
       "      <th>40</th>\n",
       "      <td>35718</td>\n",
       "      <td>9887.791667</td>\n",
       "      <td>9064.5</td>\n",
       "      <td>9103.586551</td>\n",
       "      <td>8.287529e+07</td>\n",
       "      <td>1</td>\n",
       "      <td>0</td>\n",
       "    </tr>\n",
       "    <tr>\n",
       "      <th>41</th>\n",
       "      <td>66345</td>\n",
       "      <td>25587.875000</td>\n",
       "      <td>29291.5</td>\n",
       "      <td>20411.586881</td>\n",
       "      <td>4.166329e+08</td>\n",
       "      <td>1</td>\n",
       "      <td>0</td>\n",
       "    </tr>\n",
       "    <tr>\n",
       "      <th>42</th>\n",
       "      <td>33358</td>\n",
       "      <td>7794.541667</td>\n",
       "      <td>2019.5</td>\n",
       "      <td>10231.769501</td>\n",
       "      <td>1.046891e+08</td>\n",
       "      <td>1</td>\n",
       "      <td>0</td>\n",
       "    </tr>\n",
       "    <tr>\n",
       "      <th>43</th>\n",
       "      <td>22022</td>\n",
       "      <td>7007.666667</td>\n",
       "      <td>4895.0</td>\n",
       "      <td>6337.409069</td>\n",
       "      <td>4.016275e+07</td>\n",
       "      <td>1</td>\n",
       "      <td>0</td>\n",
       "    </tr>\n",
       "    <tr>\n",
       "      <th>44</th>\n",
       "      <td>42822</td>\n",
       "      <td>17613.375000</td>\n",
       "      <td>19109.5</td>\n",
       "      <td>13120.258951</td>\n",
       "      <td>1.721412e+08</td>\n",
       "      <td>1</td>\n",
       "      <td>0</td>\n",
       "    </tr>\n",
       "    <tr>\n",
       "      <th>45</th>\n",
       "      <td>44674</td>\n",
       "      <td>8611.208333</td>\n",
       "      <td>5329.5</td>\n",
       "      <td>11016.785458</td>\n",
       "      <td>1.213696e+08</td>\n",
       "      <td>1</td>\n",
       "      <td>0</td>\n",
       "    </tr>\n",
       "    <tr>\n",
       "      <th>46</th>\n",
       "      <td>43040</td>\n",
       "      <td>10538.375000</td>\n",
       "      <td>10085.0</td>\n",
       "      <td>10031.013711</td>\n",
       "      <td>1.006212e+08</td>\n",
       "      <td>1</td>\n",
       "      <td>0</td>\n",
       "    </tr>\n",
       "    <tr>\n",
       "      <th>47</th>\n",
       "      <td>62498</td>\n",
       "      <td>21063.458333</td>\n",
       "      <td>10967.5</td>\n",
       "      <td>23307.109986</td>\n",
       "      <td>5.432214e+08</td>\n",
       "      <td>1</td>\n",
       "      <td>0</td>\n",
       "    </tr>\n",
       "    <tr>\n",
       "      <th>48</th>\n",
       "      <td>14043</td>\n",
       "      <td>5025.958333</td>\n",
       "      <td>3737.5</td>\n",
       "      <td>4516.900876</td>\n",
       "      <td>2.040239e+07</td>\n",
       "      <td>1</td>\n",
       "      <td>0</td>\n",
       "    </tr>\n",
       "    <tr>\n",
       "      <th>49</th>\n",
       "      <td>7979</td>\n",
       "      <td>3401.750000</td>\n",
       "      <td>2780.0</td>\n",
       "      <td>2243.926106</td>\n",
       "      <td>5.035204e+06</td>\n",
       "      <td>1</td>\n",
       "      <td>0</td>\n",
       "    </tr>\n",
       "    <tr>\n",
       "      <th>50</th>\n",
       "      <td>28442</td>\n",
       "      <td>9086.958333</td>\n",
       "      <td>7528.5</td>\n",
       "      <td>7889.338797</td>\n",
       "      <td>6.224167e+07</td>\n",
       "      <td>1</td>\n",
       "      <td>0</td>\n",
       "    </tr>\n",
       "    <tr>\n",
       "      <th>51</th>\n",
       "      <td>16830</td>\n",
       "      <td>4303.375000</td>\n",
       "      <td>2024.5</td>\n",
       "      <td>5073.243477</td>\n",
       "      <td>2.573780e+07</td>\n",
       "      <td>1</td>\n",
       "      <td>0</td>\n",
       "    </tr>\n",
       "    <tr>\n",
       "      <th>52</th>\n",
       "      <td>26647</td>\n",
       "      <td>4504.833333</td>\n",
       "      <td>541.0</td>\n",
       "      <td>8087.679942</td>\n",
       "      <td>6.541057e+07</td>\n",
       "      <td>1</td>\n",
       "      <td>0</td>\n",
       "    </tr>\n",
       "    <tr>\n",
       "      <th>53</th>\n",
       "      <td>20727</td>\n",
       "      <td>8143.625000</td>\n",
       "      <td>4336.0</td>\n",
       "      <td>7921.304596</td>\n",
       "      <td>6.274707e+07</td>\n",
       "      <td>1</td>\n",
       "      <td>0</td>\n",
       "    </tr>\n",
       "    <tr>\n",
       "      <th>54</th>\n",
       "      <td>42622</td>\n",
       "      <td>10706.083333</td>\n",
       "      <td>5125.0</td>\n",
       "      <td>11717.345711</td>\n",
       "      <td>1.372962e+08</td>\n",
       "      <td>1</td>\n",
       "      <td>0</td>\n",
       "    </tr>\n",
       "  </tbody>\n",
       "</table>\n",
       "</div>"
      ],
      "text/plain": [
       "       Max          mean   median            SD           Var  Id_condition  \\\n",
       "0    54521  13861.005952  12266.0  11747.496991  1.380037e+08             0   \n",
       "1    99624  24018.785714  19342.0  23333.706844  5.444619e+08             0   \n",
       "2    65015  15718.172619  17154.0  12782.930345  1.634033e+08             0   \n",
       "3    51640  11479.386905   7657.5  12202.988956  1.489129e+08             0   \n",
       "4    55847  19144.875000  19284.5  15591.658524  2.430998e+08             0   \n",
       "5    89281  21227.452381  19321.5  18038.864735  3.254006e+08             0   \n",
       "6    80940  23807.392857  21518.5  20294.551394  4.118688e+08             0   \n",
       "7    62050  24635.208333  28129.0  15736.016052  2.476222e+08             0   \n",
       "8    32071   8124.291667   4863.0   8287.858849  6.868860e+07             0   \n",
       "9    66357  16161.035714   9275.5  17882.722528  3.197918e+08             0   \n",
       "10   78434  11383.559524   8907.0  12050.323898  1.452103e+08             0   \n",
       "11   41424   9959.511905   8348.5   9300.188372  8.649350e+07             0   \n",
       "12   51982  11697.898810   8672.5  10842.256158  1.175545e+08             0   \n",
       "13  122698  23148.083333  16344.0  22755.864837  5.178294e+08             0   \n",
       "14   60783  17871.470238  18348.0  14970.197523  2.241068e+08             0   \n",
       "15   75061  15869.517857  15380.0  12810.115467  1.640991e+08             0   \n",
       "16   63171  14794.738095  13991.5  12360.450942  1.527807e+08             0   \n",
       "17   83756  16618.196429  15584.5  14720.586991  2.166957e+08             0   \n",
       "18   61059  13977.910714  13319.5  12839.570925  1.648546e+08             0   \n",
       "19   73420  22573.523810  22471.0  18906.133517  3.574419e+08             0   \n",
       "20   55350  15737.261905  13698.0  12649.182994  1.600018e+08             0   \n",
       "21   53599  15322.904762  14654.0  12613.284638  1.590949e+08             0   \n",
       "22   53065  12399.857143  12643.5  10349.162269  1.071052e+08             0   \n",
       "23  158689  25420.517857  22091.5  26323.798816  6.929424e+08             0   \n",
       "24   66173  21099.053571  19337.0  17149.893619  2.941189e+08             0   \n",
       "25   71170  23712.690476  25359.5  19030.638432  3.621652e+08             0   \n",
       "26   71197  17489.738095  14377.0  14865.638852  2.209872e+08             0   \n",
       "27   57561  17061.101190  15866.5  12122.992594  1.469669e+08             0   \n",
       "28   64800  16492.815476  15216.0  13950.130764  1.946061e+08             0   \n",
       "29   61616  13150.392857  11237.0  11620.814586  1.350433e+08             0   \n",
       "30  189645  19787.422619  15295.0  24701.797934  6.101788e+08             0   \n",
       "31   53177   8784.809524   4069.0  10377.704578  1.076968e+08             0   \n",
       "32   23739   9374.833333   6945.0   8838.539751  7.811978e+07             1   \n",
       "33   43085  15578.708333  17514.0  12469.206116  1.554811e+08             1   \n",
       "34   62600  16584.833333  15955.5  16121.695821  2.599091e+08             1   \n",
       "35   46288  14892.708333  12806.5  13139.484304  1.726460e+08             1   \n",
       "36   62282  11670.625000   7848.5  14530.252611  2.111282e+08             1   \n",
       "37   39950  11082.291667   6345.0  11358.709083  1.290203e+08             1   \n",
       "38   34775  15439.791667  14979.5  12895.015889  1.662814e+08             1   \n",
       "39   43606  13314.625000   7409.0  13764.595491  1.894641e+08             1   \n",
       "40   35718   9887.791667   9064.5   9103.586551  8.287529e+07             1   \n",
       "41   66345  25587.875000  29291.5  20411.586881  4.166329e+08             1   \n",
       "42   33358   7794.541667   2019.5  10231.769501  1.046891e+08             1   \n",
       "43   22022   7007.666667   4895.0   6337.409069  4.016275e+07             1   \n",
       "44   42822  17613.375000  19109.5  13120.258951  1.721412e+08             1   \n",
       "45   44674   8611.208333   5329.5  11016.785458  1.213696e+08             1   \n",
       "46   43040  10538.375000  10085.0  10031.013711  1.006212e+08             1   \n",
       "47   62498  21063.458333  10967.5  23307.109986  5.432214e+08             1   \n",
       "48   14043   5025.958333   3737.5   4516.900876  2.040239e+07             1   \n",
       "49    7979   3401.750000   2780.0   2243.926106  5.035204e+06             1   \n",
       "50   28442   9086.958333   7528.5   7889.338797  6.224167e+07             1   \n",
       "51   16830   4303.375000   2024.5   5073.243477  2.573780e+07             1   \n",
       "52   26647   4504.833333    541.0   8087.679942  6.541057e+07             1   \n",
       "53   20727   8143.625000   4336.0   7921.304596  6.274707e+07             1   \n",
       "54   42622  10706.083333   5125.0  11717.345711  1.372962e+08             1   \n",
       "\n",
       "    Id_control  \n",
       "0            1  \n",
       "1            1  \n",
       "2            1  \n",
       "3            1  \n",
       "4            1  \n",
       "5            1  \n",
       "6            1  \n",
       "7            1  \n",
       "8            1  \n",
       "9            1  \n",
       "10           1  \n",
       "11           1  \n",
       "12           1  \n",
       "13           1  \n",
       "14           1  \n",
       "15           1  \n",
       "16           1  \n",
       "17           1  \n",
       "18           1  \n",
       "19           1  \n",
       "20           1  \n",
       "21           1  \n",
       "22           1  \n",
       "23           1  \n",
       "24           1  \n",
       "25           1  \n",
       "26           1  \n",
       "27           1  \n",
       "28           1  \n",
       "29           1  \n",
       "30           1  \n",
       "31           1  \n",
       "32           0  \n",
       "33           0  \n",
       "34           0  \n",
       "35           0  \n",
       "36           0  \n",
       "37           0  \n",
       "38           0  \n",
       "39           0  \n",
       "40           0  \n",
       "41           0  \n",
       "42           0  \n",
       "43           0  \n",
       "44           0  \n",
       "45           0  \n",
       "46           0  \n",
       "47           0  \n",
       "48           0  \n",
       "49           0  \n",
       "50           0  \n",
       "51           0  \n",
       "52           0  \n",
       "53           0  \n",
       "54           0  "
      ]
     },
     "execution_count": 9,
     "metadata": {},
     "output_type": "execute_result"
    }
   ],
   "source": [
    "#separates the categorical column \"ID\" into the control and condition members\n",
    "ml_df = pd.get_dummies(ml_df)\n",
    "ml_df"
   ]
  },
  {
   "cell_type": "markdown",
   "metadata": {},
   "source": [
    "# Machine Learning Models"
   ]
  },
  {
   "cell_type": "code",
   "execution_count": 10,
   "metadata": {},
   "outputs": [
    {
     "name": "stdout",
     "output_type": "stream",
     "text": [
      "X training:  41\n",
      "Y training:  41\n",
      "X test:  14\n",
      "Y test:  14\n"
     ]
    }
   ],
   "source": [
    "from sklearn.model_selection import train_test_split\n",
    "#setting target variable as the condition label\n",
    "y = ml_df['Id_condition']\n",
    "X = ml_df.drop(['Id_control', 'Id_condition'], axis =1)\n",
    "\n",
    "#I'm initally using a 75/25 split to compare with a different training/test split later \n",
    "X_train, X_test, Y_train, Y_test = train_test_split(X, y, test_size = 0.25, shuffle = True)\n",
    "print(\"X training: \", len(X_train))\n",
    "print(\"Y training: \", len(Y_train))\n",
    "print(\"X test: \", len(X_test))\n",
    "print(\"Y test: \", len(Y_test))"
   ]
  },
  {
   "cell_type": "code",
   "execution_count": 11,
   "metadata": {},
   "outputs": [],
   "source": [
    "from sklearn.tree import DecisionTreeClassifier\n",
    "model = DecisionTreeClassifier(criterion = \"gini\", splitter = \"best\")\n",
    "\n",
    "#fitting the model using the training data\n",
    "fitModel = model.fit(X_train, Y_train)\n",
    "#using the model to predict the results of the test data\n",
    "pred_y = model.predict(X_test)\n",
    "pred_y\n",
    "y_pred = Y_test"
   ]
  },
  {
   "cell_type": "code",
   "execution_count": 12,
   "metadata": {},
   "outputs": [
    {
     "name": "stdout",
     "output_type": "stream",
     "text": [
      ">1, train: 0.878, test: 0.929\n",
      ">2, train: 0.902, test: 0.857\n",
      ">3, train: 0.951, test: 0.857\n",
      ">4, train: 0.976, test: 0.786\n",
      ">5, train: 1.000, test: 0.857\n",
      ">6, train: 1.000, test: 0.857\n",
      ">7, train: 1.000, test: 0.857\n",
      ">8, train: 1.000, test: 0.786\n",
      ">9, train: 1.000, test: 0.857\n",
      ">10, train: 1.000, test: 0.929\n",
      ">11, train: 1.000, test: 0.857\n",
      ">12, train: 1.000, test: 0.714\n",
      ">13, train: 1.000, test: 0.786\n",
      ">14, train: 1.000, test: 0.786\n"
     ]
    },
    {
     "data": {
      "image/png": "[encoded data removed]",
      "text/plain": [
       "<Figure size 432x288 with 1 Axes>"
      ]
     },
     "metadata": {
      "needs_background": "light"
     },
     "output_type": "display_data"
    }
   ],
   "source": [
    "from sklearn.metrics import accuracy_score\n",
    "train_scores, test_scores = list(), list()\n",
    "# define the tree depths to evaluate\n",
    "values = [i for i in range(1,15 )]\n",
    "for i in values:\n",
    "    # configure the model\n",
    "    model =  DecisionTreeClassifier(criterion ='gini', splitter = 'best',max_depth=i)\n",
    "    # fit model on the training dataset\n",
    "    model.fit(X_train, Y_train)\n",
    "    # evaluate on the train dataset\n",
    "    train_y = model.predict(X_train)\n",
    "    train_acc = accuracy_score(Y_train, train_y)\n",
    "    train_scores.append(train_acc)\n",
    "    # evaluate on the test dataset\n",
    "    test_y = model.predict(X_test)\n",
    "    test_acc = accuracy_score(Y_test, test_y)\n",
    "    test_scores.append(test_acc)\n",
    "    # summarize progress\n",
    "    print('>%d, train: %.3f, test: %.3f' % (i, train_acc, test_acc))\n",
    "# plot of train and test scores vs tree depth\n",
    "plt.plot(values, train_scores, '-o', label='Train')\n",
    "plt.plot(values, test_scores, '-o', label='Test')\n",
    "plt.legend()\n",
    "plt.show()"
   ]
  },
  {
   "cell_type": "code",
   "execution_count": 13,
   "metadata": {
    "scrolled": false
   },
   "outputs": [
    {
     "data": {
      "image/png": "[encoded data removed]",
      "text/plain": [
       "<Figure size 864x648 with 1 Axes>"
      ]
     },
     "metadata": {
      "needs_background": "light"
     },
     "output_type": "display_data"
    }
   ],
   "source": [
    "from sklearn.tree import plot_tree\n",
    "plt.rcParams[\"figure.figsize\"] = (12,9)\n",
    "fn = ['Max', 'mean', 'median', 'SD', 'Var']\n",
    "cn = ['Id_control', 'Id_condition']\n",
    "tree = plot_tree(fitModel, feature_names = fn, class_names= cn)"
   ]
  },
  {
   "cell_type": "code",
   "execution_count": 14,
   "metadata": {},
   "outputs": [
    {
     "data": {
      "text/plain": [
       "array([[7, 1],\n",
       "       [2, 4]], dtype=int64)"
      ]
     },
     "execution_count": 14,
     "metadata": {},
     "output_type": "execute_result"
    }
   ],
   "source": [
    "from sklearn.metrics import confusion_matrix\n",
    "\n",
    "confusion_matrix(y_pred, pred_y)"
   ]
  },
  {
   "cell_type": "code",
   "execution_count": 15,
   "metadata": {},
   "outputs": [
    {
     "data": {
      "text/plain": [
       "0.7857142857142857"
      ]
     },
     "execution_count": 15,
     "metadata": {},
     "output_type": "execute_result"
    }
   ],
   "source": [
    "\n",
    "accuracy_score(y_pred, pred_y)"
   ]
  },
  {
   "cell_type": "code",
   "execution_count": 16,
   "metadata": {},
   "outputs": [
    {
     "data": {
      "text/plain": [
       "array([0.78571429, 0.64285714, 0.92857143, 0.92307692])"
      ]
     },
     "execution_count": 16,
     "metadata": {},
     "output_type": "execute_result"
    }
   ],
   "source": [
    "from sklearn.model_selection import cross_val_score\n",
    "#I also used cross val to make sure my model score is consistent throughout the data size\n",
    "K = 4\n",
    "cross_val_score(fitModel, X, y, cv= K )"
   ]
  },
  {
   "cell_type": "code",
   "execution_count": 17,
   "metadata": {},
   "outputs": [
    {
     "name": "stdout",
     "output_type": "stream",
     "text": [
      "              precision    recall  f1-score   support\n",
      "\n",
      "           0       0.78      0.88      0.82         8\n",
      "           1       0.80      0.67      0.73         6\n",
      "\n",
      "    accuracy                           0.79        14\n",
      "   macro avg       0.79      0.77      0.78        14\n",
      "weighted avg       0.79      0.79      0.78        14\n",
      "\n"
     ]
    }
   ],
   "source": [
    "from sklearn.metrics import classification_report\n",
    "print(classification_report(y_pred, pred_y))"
   ]
  },
  {
   "cell_type": "markdown",
   "metadata": {},
   "source": [
    "Random Forest"
   ]
  },
  {
   "cell_type": "code",
   "execution_count": 18,
   "metadata": {},
   "outputs": [
    {
     "name": "stdout",
     "output_type": "stream",
     "text": [
      "X training:  41\n",
      "Y training:  41\n",
      "X test:  14\n",
      "Y test:  14\n"
     ]
    }
   ],
   "source": [
    "from sklearn.model_selection import train_test_split\n",
    "y = ml_df['Id_condition']\n",
    "X = ml_df.drop(['Id_control', 'Id_condition'], axis =1)\n",
    "#I'm initally using a 75/25 split to compare with a different training/test split later \n",
    "X_train, X_test, Y_train, Y_test = train_test_split(X, y, test_size = 0.25, shuffle = True)\n",
    "print(\"X training: \", len(X_train))\n",
    "print(\"Y training: \", len(Y_train))\n",
    "print(\"X test: \", len(X_test))\n",
    "print(\"Y test: \", len(Y_test))"
   ]
  },
  {
   "cell_type": "code",
   "execution_count": 19,
   "metadata": {},
   "outputs": [],
   "source": [
    "#Random forest model is created\n",
    "from sklearn.ensemble import RandomForestClassifier\n",
    "model = RandomForestClassifier(n_estimators=14, bootstrap = True)\n",
    "fitModel = model.fit(X_train, Y_train)\n",
    "\n",
    "#predicitng test set results\n",
    "pred_y = model.predict(X_test)\n",
    "pred_y\n",
    "y_pred = Y_test"
   ]
  },
  {
   "cell_type": "code",
   "execution_count": 20,
   "metadata": {},
   "outputs": [
    {
     "name": "stdout",
     "output_type": "stream",
     "text": [
      ">1, train: 0.927, test: 0.786\n",
      ">2, train: 0.902, test: 0.786\n",
      ">3, train: 0.927, test: 0.857\n",
      ">4, train: 0.951, test: 0.929\n",
      ">5, train: 0.976, test: 0.714\n",
      ">6, train: 0.951, test: 0.929\n",
      ">7, train: 0.951, test: 0.929\n",
      ">8, train: 0.951, test: 0.929\n",
      ">9, train: 0.976, test: 0.929\n",
      ">10, train: 1.000, test: 0.929\n",
      ">11, train: 1.000, test: 0.714\n",
      ">12, train: 1.000, test: 0.857\n",
      ">13, train: 1.000, test: 0.929\n",
      ">14, train: 0.951, test: 0.857\n",
      ">15, train: 1.000, test: 0.857\n",
      ">16, train: 1.000, test: 0.929\n",
      ">17, train: 0.976, test: 0.929\n",
      ">18, train: 1.000, test: 0.857\n",
      ">19, train: 1.000, test: 0.857\n",
      ">20, train: 1.000, test: 0.929\n",
      ">21, train: 1.000, test: 0.929\n",
      ">22, train: 1.000, test: 0.857\n",
      ">23, train: 1.000, test: 0.857\n",
      ">24, train: 1.000, test: 0.857\n"
     ]
    },
    {
     "data": {
      "image/png": "[encoded data removed]",
      "text/plain": [
       "<Figure size 864x648 with 1 Axes>"
      ]
     },
     "metadata": {
      "needs_background": "light"
     },
     "output_type": "display_data"
    }
   ],
   "source": [
    "train_scores, test_scores = list(), list()\n",
    "# define the tree depths to evaluate\n",
    "values = [i for i in range(1,25 )]\n",
    "for i in values:\n",
    "    # configure the model\n",
    "    model = RandomForestClassifier(n_estimators=i, bootstrap = True)\n",
    "    # fit model on the training dataset\n",
    "    model.fit(X_train, Y_train)\n",
    "    # evaluate on the train dataset\n",
    "    train_y = model.predict(X_train)\n",
    "    train_acc = accuracy_score(Y_train, train_y)\n",
    "    train_scores.append(train_acc)\n",
    "    # evaluate on the test dataset\n",
    "    test_y = model.predict(X_test)\n",
    "    test_acc = accuracy_score(Y_test, test_y)\n",
    "    test_scores.append(test_acc)\n",
    "    # summarize progress\n",
    "    print('>%d, train: %.3f, test: %.3f' % (i, train_acc, test_acc))\n",
    "# plot of train and test scores vs tree depth\n",
    "plt.plot(values, train_scores, '-o', label='Train')\n",
    "plt.plot(values, test_scores, '-o', label='Test')\n",
    "plt.legend()\n",
    "plt.show()"
   ]
  },
  {
   "cell_type": "code",
   "execution_count": 21,
   "metadata": {},
   "outputs": [
    {
     "data": {
      "text/plain": [
       "array([[8, 1],\n",
       "       [0, 5]], dtype=int64)"
      ]
     },
     "execution_count": 21,
     "metadata": {},
     "output_type": "execute_result"
    }
   ],
   "source": [
    "from sklearn.metrics import confusion_matrix\n",
    "\n",
    "confusion_matrix(y_pred, pred_y)"
   ]
  },
  {
   "cell_type": "code",
   "execution_count": 22,
   "metadata": {},
   "outputs": [
    {
     "data": {
      "text/plain": [
       "0.9285714285714286"
      ]
     },
     "execution_count": 22,
     "metadata": {},
     "output_type": "execute_result"
    }
   ],
   "source": [
    "from sklearn.metrics import accuracy_score\n",
    "accuracy_score(y_pred, pred_y)"
   ]
  },
  {
   "cell_type": "code",
   "execution_count": 23,
   "metadata": {},
   "outputs": [
    {
     "data": {
      "text/plain": [
       "array([0.85714286, 0.71428571, 0.92857143, 0.84615385])"
      ]
     },
     "execution_count": 23,
     "metadata": {},
     "output_type": "execute_result"
    }
   ],
   "source": [
    "from sklearn.model_selection import cross_val_score\n",
    "#I also used cross val to make sure my model score is consistent throughout the data size\n",
    "cross_val_score(fitModel, X, y, cv = K)"
   ]
  },
  {
   "cell_type": "code",
   "execution_count": 24,
   "metadata": {},
   "outputs": [
    {
     "name": "stdout",
     "output_type": "stream",
     "text": [
      "              precision    recall  f1-score   support\n",
      "\n",
      "           0       1.00      0.89      0.94         9\n",
      "           1       0.83      1.00      0.91         5\n",
      "\n",
      "    accuracy                           0.93        14\n",
      "   macro avg       0.92      0.94      0.93        14\n",
      "weighted avg       0.94      0.93      0.93        14\n",
      "\n"
     ]
    }
   ],
   "source": [
    "from sklearn.metrics import classification_report\n",
    "print(classification_report(y_pred, pred_y))"
   ]
  },
  {
   "cell_type": "markdown",
   "metadata": {},
   "source": [
    "Nearest Neighbour"
   ]
  },
  {
   "cell_type": "code",
   "execution_count": 25,
   "metadata": {},
   "outputs": [],
   "source": [
    "y = ml_df['Id_condition']\n",
    "X = ml_df.drop(['Id_control', 'Id_condition'], axis =1)"
   ]
  },
  {
   "cell_type": "code",
   "execution_count": 26,
   "metadata": {},
   "outputs": [],
   "source": [
    "from sklearn.preprocessing import StandardScaler\n",
    "sc = StandardScaler()\n",
    "# standardscaler fitted to judge the weight of each feature\n",
    "X_train = sc.fit_transform(X_train)\n",
    "X_test = sc.transform(X_test)"
   ]
  },
  {
   "cell_type": "code",
   "execution_count": 27,
   "metadata": {},
   "outputs": [],
   "source": [
    "# Fitting classifier to the Training set\n",
    "from sklearn.neighbors import KNeighborsClassifier\n",
    "#choosing the K value and the distance metric\n",
    "model = KNeighborsClassifier(n_neighbors = 5, metric= 'manhattan')\n",
    "fitModel = model.fit(X_train, Y_train)\n",
    "\n",
    "#predicitng test set results\n",
    "pred_y = model.predict(X_test)\n",
    "pred_y\n",
    "y_pred = Y_test"
   ]
  },
  {
   "cell_type": "code",
   "execution_count": 28,
   "metadata": {},
   "outputs": [
    {
     "name": "stdout",
     "output_type": "stream",
     "text": [
      ">1, train: 1.000, test: 0.857\n",
      ">2, train: 0.780, test: 0.929\n",
      ">3, train: 0.854, test: 0.929\n",
      ">4, train: 0.756, test: 0.857\n",
      ">5, train: 0.780, test: 0.857\n",
      ">6, train: 0.732, test: 0.857\n",
      ">7, train: 0.756, test: 0.857\n",
      ">8, train: 0.732, test: 0.857\n",
      ">9, train: 0.756, test: 0.857\n",
      ">10, train: 0.756, test: 0.857\n",
      ">11, train: 0.732, test: 0.857\n",
      ">12, train: 0.756, test: 0.857\n",
      ">13, train: 0.732, test: 0.857\n",
      ">14, train: 0.756, test: 0.857\n"
     ]
    },
    {
     "data": {
      "image/png": "[encoded data removed]",
      "text/plain": [
       "<Figure size 864x648 with 1 Axes>"
      ]
     },
     "metadata": {
      "needs_background": "light"
     },
     "output_type": "display_data"
    }
   ],
   "source": [
    "train_scores, test_scores = list(), list()\n",
    "# define the tree depths to evaluate\n",
    "values = [i for i in range(1,15 )]\n",
    "for i in values:\n",
    "    # configure the model\n",
    "    model = KNeighborsClassifier(n_neighbors = i, metric= 'manhattan')\n",
    "    # fit model on the training dataset\n",
    "    model.fit(X_train, Y_train)\n",
    "    # evaluate on the train dataset\n",
    "    train_y = model.predict(X_train)\n",
    "    train_acc = accuracy_score(Y_train, train_y)\n",
    "    train_scores.append(train_acc)\n",
    "    # evaluate on the test dataset\n",
    "    test_y = model.predict(X_test)\n",
    "    test_acc = accuracy_score(Y_test, test_y)\n",
    "    test_scores.append(test_acc)\n",
    "    # summarize progress\n",
    "    print('>%d, train: %.3f, test: %.3f' % (i, train_acc, test_acc))\n",
    "# plot of train and test scores vs tree depth\n",
    "plt.plot(values, train_scores, '-o', label='Train')\n",
    "plt.plot(values, test_scores, '-o', label='Test')\n",
    "plt.legend()\n",
    "plt.show()"
   ]
  },
  {
   "cell_type": "code",
   "execution_count": 29,
   "metadata": {},
   "outputs": [
    {
     "data": {
      "text/plain": [
       "array([[8, 1],\n",
       "       [1, 4]], dtype=int64)"
      ]
     },
     "execution_count": 29,
     "metadata": {},
     "output_type": "execute_result"
    }
   ],
   "source": [
    "#creating the confusion matrix\n",
    "from sklearn.metrics import confusion_matrix\n",
    "confusion_matrix(y_pred, pred_y)"
   ]
  },
  {
   "cell_type": "code",
   "execution_count": 30,
   "metadata": {},
   "outputs": [
    {
     "data": {
      "text/plain": [
       "0.8571428571428571"
      ]
     },
     "execution_count": 30,
     "metadata": {},
     "output_type": "execute_result"
    }
   ],
   "source": [
    "from sklearn.metrics import accuracy_score\n",
    "accuracy_score(y_pred, pred_y)"
   ]
  },
  {
   "cell_type": "code",
   "execution_count": 31,
   "metadata": {},
   "outputs": [
    {
     "data": {
      "text/plain": [
       "array([0.64285714, 0.64285714, 0.71428571, 0.76923077])"
      ]
     },
     "execution_count": 31,
     "metadata": {},
     "output_type": "execute_result"
    }
   ],
   "source": [
    "from sklearn.model_selection import cross_val_score\n",
    "#I also used cross val to make sure my model score is consistent throughout the data size\n",
    "cross_val_score(fitModel, X, y, cv = K)"
   ]
  },
  {
   "cell_type": "code",
   "execution_count": 32,
   "metadata": {},
   "outputs": [
    {
     "name": "stdout",
     "output_type": "stream",
     "text": [
      "              precision    recall  f1-score   support\n",
      "\n",
      "           0       0.89      0.89      0.89         9\n",
      "           1       0.80      0.80      0.80         5\n",
      "\n",
      "    accuracy                           0.86        14\n",
      "   macro avg       0.84      0.84      0.84        14\n",
      "weighted avg       0.86      0.86      0.86        14\n",
      "\n"
     ]
    }
   ],
   "source": [
    "from sklearn.metrics import classification_report\n",
    "print(classification_report(y_pred, pred_y))"
   ]
  },
  {
   "cell_type": "markdown",
   "metadata": {},
   "source": [
    "SVM"
   ]
  },
  {
   "cell_type": "code",
   "execution_count": 33,
   "metadata": {},
   "outputs": [],
   "source": [
    "y = ml_df['Id_condition']\n",
    "X = ml_df.drop(['Id_control', 'Id_condition'], axis =1)"
   ]
  },
  {
   "cell_type": "code",
   "execution_count": 34,
   "metadata": {},
   "outputs": [
    {
     "name": "stdout",
     "output_type": "stream",
     "text": [
      "X training:  41\n",
      "Y training:  41\n",
      "X test:  14\n",
      "Y test:  14\n"
     ]
    }
   ],
   "source": [
    "\n",
    "from sklearn.model_selection import train_test_split\n",
    "#I'm initally using a 75/25 split to compare with a different training/test split later \n",
    "X_train, X_test, Y_train, Y_test = train_test_split(X, y, test_size = 0.25, shuffle = True)\n",
    "print(\"X training: \", len(X_train))\n",
    "print(\"Y training: \", len(Y_train))\n",
    "print(\"X test: \", len(X_test))\n",
    "print(\"Y test: \", len(Y_test))"
   ]
  },
  {
   "cell_type": "code",
   "execution_count": 35,
   "metadata": {},
   "outputs": [],
   "source": [
    "from sklearn.svm import SVC\n",
    "from sklearn.pipeline import make_pipeline\n",
    "#using  a linear kernel as it separates the both classes more accurately \n",
    "model = make_pipeline(StandardScaler(), SVC(random_state = True,  kernel = 'linear'))\n",
    "fitModel = model.fit(X_train, Y_train)"
   ]
  },
  {
   "cell_type": "code",
   "execution_count": 36,
   "metadata": {},
   "outputs": [],
   "source": [
    "#predicitng test set results\n",
    "pred_y = model.predict(X_test)\n",
    "pred_y\n",
    "y_pred = Y_test"
   ]
  },
  {
   "cell_type": "code",
   "execution_count": 37,
   "metadata": {},
   "outputs": [
    {
     "data": {
      "text/plain": [
       "array([[8, 1],\n",
       "       [0, 5]], dtype=int64)"
      ]
     },
     "execution_count": 37,
     "metadata": {},
     "output_type": "execute_result"
    }
   ],
   "source": [
    "#creating the confusion matrix\n",
    "from sklearn.metrics import confusion_matrix\n",
    "confusion_matrix(y_pred, pred_y)"
   ]
  },
  {
   "cell_type": "code",
   "execution_count": 38,
   "metadata": {},
   "outputs": [
    {
     "data": {
      "text/plain": [
       "0.9285714285714286"
      ]
     },
     "execution_count": 38,
     "metadata": {},
     "output_type": "execute_result"
    }
   ],
   "source": [
    "from sklearn.metrics import accuracy_score\n",
    "accuracy_score(y_pred, pred_y)"
   ]
  },
  {
   "cell_type": "code",
   "execution_count": 39,
   "metadata": {},
   "outputs": [
    {
     "data": {
      "text/plain": [
       "array([0.85714286, 0.71428571, 1.        , 1.        ])"
      ]
     },
     "execution_count": 39,
     "metadata": {},
     "output_type": "execute_result"
    }
   ],
   "source": [
    "from sklearn.model_selection import cross_val_score\n",
    "#I also used cross val to make sure my model score is consistent throughout the data size\n",
    "cross_val_score(fitModel, X, y, cv = K)"
   ]
  },
  {
   "cell_type": "code",
   "execution_count": 40,
   "metadata": {},
   "outputs": [
    {
     "name": "stdout",
     "output_type": "stream",
     "text": [
      "              precision    recall  f1-score   support\n",
      "\n",
      "           0       1.00      0.89      0.94         9\n",
      "           1       0.83      1.00      0.91         5\n",
      "\n",
      "    accuracy                           0.93        14\n",
      "   macro avg       0.92      0.94      0.93        14\n",
      "weighted avg       0.94      0.93      0.93        14\n",
      "\n"
     ]
    }
   ],
   "source": [
    "from sklearn.metrics import classification_report\n",
    "print(classification_report(y_pred, pred_y))"
   ]
  },
  {
   "cell_type": "code",
   "execution_count": null,
   "metadata": {},
   "outputs": [],
   "source": []
  }
 ],
 "metadata": {
  "kernelspec": {
   "display_name": "Python 3",
   "language": "python",
   "name": "python3"
  },
  "language_info": {
   "codemirror_mode": {
    "name": "ipython",
    "version": 3
   },
   "file_extension": ".py",
   "mimetype": "text/x-python",
   "name": "python",
   "nbconvert_exporter": "python",
   "pygments_lexer": "ipython3",
   "version": "3.8.6"
  }
 },
 "nbformat": 4,
 "nbformat_minor": 4
}
